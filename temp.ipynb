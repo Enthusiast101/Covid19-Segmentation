{
 "cells": [
  {
   "cell_type": "code",
   "execution_count": 1,
   "metadata": {},
   "outputs": [],
   "source": [
    "import numpy as np\n",
    "import pandas as pd\n",
    "import nibabel as nib\n",
    "import matplotlib.pyplot as plt\n",
    "import cv2\n",
    "from PIL import Image\n",
    "import tensorflow as tf\n",
    "from sklearn.model_selection import train_test_split\n",
    "from sklearn.preprocessing import MinMaxScaler\n",
    "# from tensorflow.keras import layers\n",
    "# from tensorflow.keras.utils import plot_model\n",
    "# from tensorflow.keras import layers\n",
    "# from tensorflow.keras.metrics import Precision, Recall\n",
    "# from keras_flops import get_flops\n",
    "\n",
    "# from tensorflow.keras.preprocessing.image import ImageDataGenerator\n",
    "# from tensorflow.keras.layers import Conv2D, Input, MaxPooling2D, Dropout, concatenate, UpSampling2D, BatchNormalization, Activation, Conv2DTranspose\n",
    "# from tensorflow.keras.models import load_model, Model\n",
    "# from tensorflow.keras.optimizers import Adam\n",
    "# from tensorflow.keras.callbacks import EarlyStopping, ModelCheckpoint, ReduceLROnPlateau, TensorBoard\n",
    "import gc\n",
    "import os\n",
    "from tqdm import tqdm\n",
    "import keras.backend as K\n"
   ]
  },
  {
   "cell_type": "code",
   "execution_count": 12,
   "metadata": {},
   "outputs": [],
   "source": [
    "\n",
    "def jaccard_loss(y_true, y_pred, smooth=1e-7):\n",
    "    y_true = K.cast(y_true, dtype='float32')  # Cast y_true to float32\n",
    "    intersection = K.sum(y_true * y_pred, axis=(1, 2, 3))\n",
    "    union = K.sum(y_true, axis=(1, 2, 3)) + K.sum(y_pred, axis=(1, 2, 3)) - intersection\n",
    "    jaccard = (intersection + smooth) / (union + smooth)\n",
    "    return 1 - jaccard\n",
    "\n",
    "\n",
    "def get_data(image_path=\"data/Lungs\", mask_path=\"data/Infection\", IMG_SIZE=128, i=None, j=None, normalize=False):\n",
    "    img_names = os.listdir(image_path)    \n",
    "    msk_names = os.listdir(mask_path)\n",
    "\n",
    "    i = [0 if i is None else i][0]\n",
    "    j = [len(img_names) if j is None else j][0]\n",
    "\n",
    "    images, masks = np.zeros([j-i, IMG_SIZE, IMG_SIZE, 1]), np.zeros([j-i, IMG_SIZE, IMG_SIZE, 1])\n",
    "    for index, (img, msk) in tqdm(enumerate(zip(img_names[i:j], msk_names[i:j]))):\n",
    "        image = np.asarray(Image.open(f\"{image_path}/{img}\"))\n",
    "        mask = np.asarray(Image.open(f\"{mask_path}/{msk}\"))\n",
    "\n",
    "        # if normalize:\n",
    "            # images[index] = MinMaxScaler().fit_transform(image)[..., np.newaxis]\n",
    "        masks[index] = MinMaxScaler().fit_transform(mask)[..., np.newaxis]\n",
    "        # else:\n",
    "        images[index] = image[..., np.newaxis]\n",
    "            # masks[index] = mask[..., np.newaxis]\n",
    "\n",
    "    images, masks = np.array(images), np.array(masks)\n",
    "    return images, masks\n",
    "\n",
    "def IOU(y_true, y_pred, smooth=1e-6):\n",
    "    y_true_flat = tf.cast(tf.reshape(y_true, [-1]), dtype=tf.float32)\n",
    "    y_pred_flat = tf.cast(tf.reshape(y_pred, [-1]), dtype=tf.float32)\n",
    "\n",
    "    intersection = tf.reduce_sum(y_true_flat * y_pred_flat)\n",
    "    union = tf.reduce_sum(y_true_flat) + tf.reduce_sum(y_pred_flat) - intersection\n",
    "    \n",
    "    iou = (intersection + smooth) / (union + smooth)\n",
    "    print(f\"IOU: {iou:.4f}\")\n",
    "    return iou\n",
    "\n",
    "\n",
    "def save(path, images):\n",
    "    for index, image in enumerate(images):\n",
    "        image = np.squeeze(image)\n",
    "        image = (image * 255).clip(0, 255).astype(np.uint8)\n",
    "        Image.fromarray(image).save(f\"{path}/{index}.png\")"
   ]
  },
  {
   "cell_type": "code",
   "execution_count": 13,
   "metadata": {},
   "outputs": [
    {
     "name": "stderr",
     "output_type": "stream",
     "text": [
      "4it [00:00, 735.55it/s]\n"
     ]
    },
    {
     "name": "stdout",
     "output_type": "stream",
     "text": [
      "IOU: 0.6371\n"
     ]
    }
   ],
   "source": [
    "path = \"models/UNet.h5\"\n",
    "lungs, masks = get_data(i=141, j=145)\n",
    "\n",
    "model = tf.keras.models.load_model(path, custom_objects={\"jaccard_loss\": jaccard_loss})\n",
    "pred = model.predict(lungs)\n",
    "\n",
    "# print(lungs.shape, pred.shape, masks.shape)\n",
    "\n",
    "IOU(masks.flatten(), pred.flatten())\n",
    "save(\"outputs/\", pred)\n"
   ]
  },
  {
   "cell_type": "code",
   "execution_count": 14,
   "metadata": {},
   "outputs": [],
   "source": [
    "os.makedirs(\"outputs/\", exist_ok=True)"
   ]
  },
  {
   "cell_type": "code",
   "execution_count": 17,
   "metadata": {},
   "outputs": [
    {
     "data": {
      "text/plain": [
       "<matplotlib.image.AxesImage at 0x2f4e359e650>"
      ]
     },
     "execution_count": 17,
     "metadata": {},
     "output_type": "execute_result"
    },
    {
     "data": {
      "image/png": "[encoded data removed]",
      "text/plain": [
       "<Figure size 640x480 with 1 Axes>"
      ]
     },
     "metadata": {},
     "output_type": "display_data"
    }
   ],
   "source": [
    "plt.imshow(pred[2])"
   ]
  },
  {
   "cell_type": "code",
   "execution_count": 18,
   "metadata": {},
   "outputs": [
    {
     "data": {
      "text/plain": [
       "<matplotlib.image.AxesImage at 0x2f4e3765390>"
      ]
     },
     "execution_count": 18,
     "metadata": {},
     "output_type": "execute_result"
    },
    {
     "data": {
      "image/png": "[encoded data removed]",
      "text/plain": [
       "<Figure size 640x480 with 1 Axes>"
      ]
     },
     "metadata": {},
     "output_type": "display_data"
    }
   ],
   "source": [
    "plt.imshow(pred[2])"
   ]
  },
  {
   "cell_type": "code",
   "execution_count": null,
   "metadata": {},
   "outputs": [],
   "source": [
    "import keras.backend as K\n",
    "def jaccard_loss(y_true, y_pred, smooth=1e-7):\n",
    "    y_true = K.cast(y_true, dtype='float32')  # Cast y_true to float32\n",
    "    intersection = K.sum(y_true * y_pred, axis=(1, 2, 3))\n",
    "    union = K.sum(y_true, axis=(1, 2, 3)) + K.sum(y_pred, axis=(1, 2, 3)) - intersection\n",
    "    jaccard = (intersection + smooth) / (union + smooth)\n",
    "    return 1 - jaccard"
   ]
  }
 ],
 "metadata": {
  "kernelspec": {
   "display_name": "tf",
   "language": "python",
   "name": "python3"
  },
  "language_info": {
   "codemirror_mode": {
    "name": "ipython",
    "version": 3
   },
   "file_extension": ".py",
   "mimetype": "text/x-python",
   "name": "python",
   "nbconvert_exporter": "python",
   "pygments_lexer": "ipython3",
   "version": "3.10.16"
  }
 },
 "nbformat": 4,
 "nbformat_minor": 2
}
